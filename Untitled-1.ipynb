{
 "cells": [
  {
   "cell_type": "code",
   "execution_count": 8,
   "id": "d0ffab98",
   "metadata": {},
   "outputs": [],
   "source": [
    "import csv\n",
    "import os\n",
    "from datetime import datetime\n",
    "\n",
    "# File to store score logs\n",
    "LOG_FILE = \"scores.csv\"\n",
    "\n",
    "# Create file with headers if it doesn’t exist\n",
    "if not os.path.exists(LOG_FILE):\n",
    "    with open(LOG_FILE, \"w\", newline=\"\") as f:\n",
    "        writer = csv.writer(f)\n",
    "        writer.writerow([\"timestamp\", \"team\", \"score\"])\n",
    "\n",
    "# Load last scores (if any)\n",
    "last_scores = {}\n",
    "\n",
    "with open(LOG_FILE, \"r\") as f:\n",
    "    reader = list(csv.DictReader(f))\n",
    "    for row in reader:\n",
    "        last_scores[row[\"team\"]] = float(row[\"score\"])\n",
    "\n",
    "# Pull new scores\n",
    "timestamp = datetime.now().strftime(\"%Y-%m-%d %H:%M:%S\")\n",
    "new_entries = []\n",
    "\n",
    "for m in league.scoreboard():\n",
    "    for team in [m.home_team, m.away_team]:\n",
    "        score = team.scores[-1]\n",
    "        prev = last_scores.get(team.team_name, 0)\n",
    "\n",
    "        # Log big play\n",
    "        if score - prev >= 6:\n",
    "            print(f\"🔥 Big play! {team.team_name} jumped {score - prev:.2f} points\")\n",
    "\n",
    "        new_entries.append([timestamp, team.team_name, score])\n",
    "\n",
    "# Append new entries to CSV\n",
    "with open(LOG_FILE, \"a\", newline=\"\") as f:\n",
    "    writer = csv.writer(f)\n",
    "    writer.writerows(new_entries)\n"
   ]
  },
  {
   "cell_type": "code",
   "execution_count": null,
   "id": "d89277c2",
   "metadata": {},
   "outputs": [],
   "source": []
  }
 ],
 "metadata": {
  "kernelspec": {
   "display_name": "base",
   "language": "python",
   "name": "python3"
  },
  "language_info": {
   "codemirror_mode": {
    "name": "ipython",
    "version": 3
   },
   "file_extension": ".py",
   "mimetype": "text/x-python",
   "name": "python",
   "nbconvert_exporter": "python",
   "pygments_lexer": "ipython3",
   "version": "3.13.5"
  }
 },
 "nbformat": 4,
 "nbformat_minor": 5
}
